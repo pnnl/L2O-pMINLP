{
 "cells": [
  {
   "cell_type": "code",
   "execution_count": 1,
   "id": "c1b20ab5-c96b-4200-9d62-428fba6e090d",
   "metadata": {},
   "outputs": [],
   "source": [
    "import os\n",
    "import time\n",
    "import random\n",
    "import gzip\n",
    "\n",
    "import gurobipy as gp\n",
    "from gurobipy import GRB \n",
    "import numpy as np\n",
    "import pandas as pd\n",
    "import torch\n",
    "from torch import nn\n",
    "from tqdm import tqdm"
   ]
  },
  {
   "cell_type": "code",
   "execution_count": 2,
   "id": "aaa4bba7-0e7e-42e0-8d93-b4f9825f26fd",
   "metadata": {},
   "outputs": [],
   "source": [
    "random.seed(42)\n",
    "np.random.seed(42)\n",
    "torch.manual_seed(42)\n",
    "torch.cuda.manual_seed(42)\n",
    "torch.backends.cudnn.deterministic = True\n",
    "torch.backends.cudnn.benchmark = False"
   ]
  },
  {
   "cell_type": "code",
   "execution_count": 3,
   "id": "1dbff04c-8afc-43c0-a2e1-6d49c00f4514",
   "metadata": {},
   "outputs": [
    {
     "name": "stdout",
     "output_type": "stream",
     "text": [
      "Set parameter Username\n",
      "Academic license - for non-commercial use only - expires 2024-12-25\n"
     ]
    }
   ],
   "source": [
    "# disable Gurobi output globally\n",
    "gp.setParam(\"OutputFlag\", 0)"
   ]
  },
  {
   "cell_type": "markdown",
   "id": "40d4be44-d664-4fda-a898-f7852eba1758",
   "metadata": {},
   "source": [
    "### Load Data"
   ]
  },
  {
   "cell_type": "code",
   "execution_count": 4,
   "id": "f05722ed-b6ee-499d-9244-a88099138176",
   "metadata": {},
   "outputs": [],
   "source": [
    "def getVarTypes(model):\n",
    "    types = []\n",
    "    for var in model.getVars():\n",
    "        # classify as binary if integer with bounds [0, 1]\n",
    "        if var.VType == GRB.INTEGER and var.LB == 0 and var.UB == 1:\n",
    "            types.append(GRB.BINARY)\n",
    "        else:\n",
    "            types.append(var.VType)\n",
    "    return types\n",
    "\n",
    "def getObjVec(model):\n",
    "    obj_vector = np.array([var.Obj for var in model.getVars()])\n",
    "    return obj_vector\n",
    "\n",
    "def getConstrMat(model):\n",
    "    # init A\n",
    "    num_constraints = model.NumConstrs\n",
    "    num_variables = model.NumVars\n",
    "    A_matrix = np.zeros((num_constraints, num_variables))\n",
    "    # cnt\n",
    "    i = 0\n",
    "    for i, constraint in enumerate(model.getConstrs()):\n",
    "        # check the sense and adjust if necessary\n",
    "        if constraint.Sense == GRB.GREATER_EQUAL:\n",
    "            # multiply the constraint row and RHS by -1 to convert >= to <=\n",
    "            row = model.getRow(constraint)\n",
    "            for j in range(row.size()):\n",
    "                var = row.getVar(j)\n",
    "                col_index = var.index\n",
    "                A_matrix[i, col_index] = -row.getCoeff(j)\n",
    "        elif constraint.Sense == GRB.LESS_EQUAL:\n",
    "            # keep <= constraints as they are\n",
    "            row = model.getRow(constraint)\n",
    "            for j in range(row.size()):\n",
    "                var = row.getVar(j)\n",
    "                col_index = var.index\n",
    "                A_matrix[i, col_index] = row.getCoeff(j)\n",
    "        else:\n",
    "            # raise an error if an equality constraint is encountered\n",
    "            raise ValueError(f\"Equality constraint found in constraint {constraint.ConstrName}. This is not allowed.\")\n",
    "        i += 1 \n",
    "    return A_matrix\n",
    "\n",
    "def getRhsVec(model):\n",
    "    # init b\n",
    "    num_constraints = model.NumConstrs\n",
    "    num_variables = model.NumVars\n",
    "    b_vector = np.zeros(num_constraints)\n",
    "    for i, constraint in enumerate(model.getConstrs()):\n",
    "        # check the sense and adjust if necessary\n",
    "        if constraint.Sense == GRB.GREATER_EQUAL:\n",
    "            b_vector[i] = -constraint.RHS\n",
    "        elif constraint.Sense == GRB.LESS_EQUAL:\n",
    "            # keep <= constraints as they are\n",
    "            b_vector[i] = constraint.RHS\n",
    "        else:\n",
    "            # raise an error if an equality constraint is encountered\n",
    "            raise ValueError(f\"Equality constraint found in constraint {constraint.ConstrName}. This is not allowed.\")   \n",
    "    return b_vector\n",
    "\n",
    "def getBounds(model):\n",
    "    # lower bound\n",
    "    lb_vector = np.array([var.LB for var in model.getVars()])\n",
    "    # upper bound\n",
    "    ub_vector = np.array([var.UB for var in model.getVars()])\n",
    "    return lb_vector, ub_vector"
   ]
  },
  {
   "cell_type": "code",
   "execution_count": 5,
   "id": "b2fe4b0b-edf6-4214-bc8f-42d90f3809af",
   "metadata": {},
   "outputs": [
    {
     "name": "stdout",
     "output_type": "stream",
     "text": [
      "Obj vector for:\n",
      "[[66. 57.  6. ... 33. 20. 37.]\n",
      " [66. 57.  6. ... 44. 80.  3.]\n",
      " [66. 57.  6. ... 83. 42. 77.]\n",
      " ...\n",
      " [66. 57.  6. ... 72. 89. 39.]\n",
      " [66. 57.  6. ... 14. 46. 16.]\n",
      " [66. 57.  6. ... 69. 21. 84.]]\n"
     ]
    }
   ],
   "source": [
    "# dir\n",
    "data_dir = r\".\\data\\datasets\\vary_obj\\series_1\"\n",
    "# init data\n",
    "c_data = np.zeros((50, 360))\n",
    "i = 0\n",
    "# go through files\n",
    "print(\"Obj vector for:\")\n",
    "for file_name in os.listdir(data_dir):\n",
    "    if file_name.endswith(\".mps.gz\"):\n",
    "        file_path = os.path.join(data_dir, file_name)\n",
    "        # read file\n",
    "        with gzip.open(file_path, \"rb\") as f:\n",
    "            with open(\"temp.mps\", \"wb\") as temp_file:\n",
    "                temp_file.write(f.read())\n",
    "        # load model\n",
    "        model = gp.read(\"temp.mps\")\n",
    "        # print or process the RHS vector as needed\n",
    "        obj_vector = getObjVec(model)\n",
    "        c_data[i] = obj_vector\n",
    "        # counting\n",
    "        i += 1\n",
    "print(c_data)"
   ]
  },
  {
   "cell_type": "code",
   "execution_count": 6,
   "id": "39e00640-07c8-4683-80cd-fef3a8e0ee0f",
   "metadata": {},
   "outputs": [],
   "source": [
    "from sklearn.model_selection import train_test_split\n",
    "train_data, test_data = train_test_split(c_data, test_size=0.2, random_state=42)"
   ]
  },
  {
   "cell_type": "code",
   "execution_count": 7,
   "id": "c5591259-03f1-486a-8c27-fc1047962201",
   "metadata": {},
   "outputs": [],
   "source": [
    "# remove equality\n",
    "#removeEquality(model)\n",
    "\n",
    "# var type\n",
    "types = getVarTypes(model)\n",
    "# constraint\n",
    "A = getConstrMat(model)\n",
    "# rhs\n",
    "b = getRhsVec(model)\n",
    "# bound\n",
    "lb, ub = getBounds(model)"
   ]
  },
  {
   "cell_type": "code",
   "execution_count": 8,
   "id": "ee741ac2-8ba9-44fe-aae2-b37335cd8fae",
   "metadata": {},
   "outputs": [
    {
     "name": "stdout",
     "output_type": "stream",
     "text": [
      "Bin index: [0, 1, 2, 3, 4, 5, 6, 7, 8, 9, 10, 11, 12, 13, 14, 15, 16, 17, 18, 19, 20, 21, 22, 23, 24, 25, 26, 27, 28, 29, 30, 31, 32, 33, 34, 35, 36, 37, 38, 39, 40, 41, 42, 43, 44, 45, 46, 47, 48, 49, 50, 51, 52, 53, 54, 55, 56, 57, 58, 59, 60, 61, 62, 63, 64, 65, 66, 67, 68, 69, 70, 71, 72, 73, 74, 75, 76, 77, 78, 79, 80, 81, 82, 83, 84, 85, 86, 87, 88, 89, 90, 91, 92, 93, 94, 95, 96, 97, 98, 99, 100, 101, 102, 103, 104, 105, 106, 107, 108, 109, 110, 111, 112, 113, 114, 115, 116, 117, 118, 119, 120, 121, 122, 123, 124, 125, 126, 127, 128, 129, 130, 131, 132, 133, 134, 135, 136, 137, 138, 139, 140, 141, 142, 143, 144, 145, 146, 147, 148, 149, 150, 151, 152, 153, 154, 155, 156, 157, 158, 159, 160, 161, 162, 163, 164, 165, 166, 167, 168, 169, 170, 171, 172, 173, 174, 175, 176, 177, 178, 179, 180, 181, 182, 183, 184, 185, 186, 187, 188, 189, 190, 191, 192, 193, 194, 195, 196, 197, 198, 199, 200, 201, 202, 203, 204, 205, 206, 207, 208, 209, 210, 211, 212, 213, 214, 215, 216, 217, 218, 219, 220, 221, 222, 223, 224, 225, 226, 227, 228, 229, 230, 231, 232, 233, 234, 235, 236, 237, 238, 239, 240, 241, 242, 243, 244, 245, 246, 247, 248, 249, 250, 251, 252, 253, 254, 255, 256, 257, 258, 259, 260, 261, 262, 263, 264, 265, 266, 267, 268, 269, 270, 271, 272, 273, 274, 275, 276, 277, 278, 279, 280, 281, 282, 283, 284, 285, 286, 287, 288, 289, 290, 291, 292, 293, 294, 295, 296, 297, 298, 299, 300, 301, 302, 303, 304, 305, 306, 307, 308, 309, 310, 311, 312, 313, 314, 315, 316, 317, 318, 319, 320, 321, 322, 323, 324, 325, 326, 327, 328, 329, 330, 331, 332, 333, 334, 335, 336, 337, 338, 339, 340, 341, 342, 343, 344, 345, 346, 347, 348, 349, 350, 351, 352, 353, 354, 355, 356, 357, 358, 359]\n",
      "Int index: []\n"
     ]
    }
   ],
   "source": [
    "# init\n",
    "bin_ind = []\n",
    "int_ind = []\n",
    "for i, var_type in enumerate(types):\n",
    "    # check if the variable is binary\n",
    "    if var_type == GRB.BINARY:\n",
    "        bin_ind.append(i)\n",
    "     # check if the variable is integer\n",
    "    elif var_type == GRB.INTEGER:\n",
    "        int_ind.append(i)\n",
    "print(\"Bin index:\", bin_ind)\n",
    "print(\"Int index:\", int_ind)"
   ]
  },
  {
   "cell_type": "markdown",
   "id": "bd982f8a-bfe0-4bf3-83eb-5aa82033f58a",
   "metadata": {},
   "source": [
    "### Analysis"
   ]
  },
  {
   "cell_type": "code",
   "execution_count": 9,
   "id": "42f9f46a-67c7-4169-a428-740695ff5b27",
   "metadata": {},
   "outputs": [
    {
     "name": "stdout",
     "output_type": "stream",
     "text": [
      "Indices of columns in c_data where all entries are non-zero:\n",
      "Nonzero cost: 360\n",
      "[  0   1   2   3   4   5   6   7   8   9  10  11  12  13  14  15  16  17\n",
      "  18  19  20  21  22  23  24  25  26  27  28  29  30  31  32  33  34  35\n",
      "  36  37  38  39  40  41  42  43  44  45  46  47  48  49  50  51  52  53\n",
      "  54  55  56  57  58  59  60  61  62  63  64  65  66  67  68  69  70  71\n",
      "  72  73  74  75  76  77  78  79  80  81  82  83  84  85  86  87  88  89\n",
      "  90  91  92  93  94  95  96  97  98  99 100 101 102 103 104 105 106 107\n",
      " 108 109 110 111 112 113 114 115 116 117 118 119 120 121 122 123 124 125\n",
      " 126 127 128 129 130 131 132 133 134 135 136 137 138 139 140 141 142 143\n",
      " 144 145 146 147 148 149 150 151 152 153 154 155 156 157 158 159 160 161\n",
      " 162 163 164 165 166 167 168 169 170 171 172 173 174 175 176 177 178 179\n",
      " 180 181 182 183 184 185 186 187 188 189 190 191 192 193 194 195 196 197\n",
      " 198 199 200 201 202 203 204 205 206 207 208 209 210 211 212 213 214 215\n",
      " 216 217 218 219 220 221 222 223 224 225 226 227 228 229 230 231 232 233\n",
      " 234 235 236 237 238 239 240 241 242 243 244 245 246 247 248 249 250 251\n",
      " 252 253 254 255 256 257 258 259 260 261 262 263 264 265 266 267 268 269\n",
      " 270 271 272 273 274 275 276 277 278 279 280 281 282 283 284 285 286 287\n",
      " 288 289 290 291 292 293 294 295 296 297 298 299 300 301 302 303 304 305\n",
      " 306 307 308 309 310 311 312 313 314 315 316 317 318 319 320 321 322 323\n",
      " 324 325 326 327 328 329 330 331 332 333 334 335 336 337 338 339 340 341\n",
      " 342 343 344 345 346 347 348 349 350 351 352 353 354 355 356 357 358 359]\n"
     ]
    }
   ],
   "source": [
    "# identify columns with all non-zero elements in b_data\n",
    "non_zero_columns = np.all(train_data != 0, axis=0)\n",
    "non_zero_column_indices = np.where(non_zero_columns)[0]  # Get the indices of columns with all non-zero elements\n",
    "print(\"Indices of columns in c_data where all entries are non-zero:\")\n",
    "print(\"Nonzero cost:\", len(non_zero_column_indices))\n",
    "print(non_zero_column_indices)"
   ]
  },
  {
   "cell_type": "code",
   "execution_count": 10,
   "id": "6691f894-6590-4fb3-a5b3-815fbfb73b8c",
   "metadata": {},
   "outputs": [
    {
     "name": "stdout",
     "output_type": "stream",
     "text": [
      "120 Indices where maximum and minimum values are different:\n",
      "[240 241 242 243 244 245 246 247 248 249 250 251 252 253 254 255 256 257\n",
      " 258 259 260 261 262 263 264 265 266 267 268 269 270 271 272 273 274 275\n",
      " 276 277 278 279 280 281 282 283 284 285 286 287 288 289 290 291 292 293\n",
      " 294 295 296 297 298 299 300 301 302 303 304 305 306 307 308 309 310 311\n",
      " 312 313 314 315 316 317 318 319 320 321 322 323 324 325 326 327 328 329\n",
      " 330 331 332 333 334 335 336 337 338 339 340 341 342 343 344 345 346 347\n",
      " 348 349 350 351 352 353 354 355 356 357 358 359]\n"
     ]
    }
   ],
   "source": [
    "# find the maximum and minimum values for each column in b_data\n",
    "train_data_col_max = np.max(train_data[:,non_zero_column_indices], axis=0)\n",
    "train_data_col_min = np.min(train_data[:,non_zero_column_indices], axis=0)\n",
    "different_ind = np.where(train_data_col_max != train_data_col_min)[0]\n",
    "print(f\"{len(different_ind)} Indices where maximum and minimum values are different:\")\n",
    "print(different_ind)"
   ]
  },
  {
   "cell_type": "code",
   "execution_count": 11,
   "id": "b785d280-ee95-4ead-be59-33959787f542",
   "metadata": {},
   "outputs": [
    {
     "data": {
      "image/png": "[encoded data removed]",
      "text/plain": [
       "<Figure size 600x400 with 1 Axes>"
      ]
     },
     "metadata": {},
     "output_type": "display_data"
    }
   ],
   "source": [
    "import matplotlib.pyplot as plt\n",
    "# plot histogram for the a column\n",
    "plt.figure(figsize=(6, 4))\n",
    "plt.hist(train_data[:, 240], bins=20, edgecolor='black')\n",
    "plt.title(\"Distribution of First Column of training data\")\n",
    "plt.xlabel(\"Value\")\n",
    "plt.ylabel(\"Frequency\")\n",
    "plt.show()"
   ]
  },
  {
   "cell_type": "code",
   "execution_count": 12,
   "id": "d85de1a6-e72e-4a0c-bc23-af94cf8476e6",
   "metadata": {},
   "outputs": [
    {
     "data": {
      "image/png": "[encoded data removed]",
      "text/plain": [
       "<Figure size 600x400 with 1 Axes>"
      ]
     },
     "metadata": {},
     "output_type": "display_data"
    }
   ],
   "source": [
    "import matplotlib.pyplot as plt\n",
    "# plot histogram for the a column of b_data\n",
    "plt.figure(figsize=(6, 4))\n",
    "plt.hist(train_data[:, 241], bins=20, edgecolor='black')\n",
    "plt.title(\"Distribution of Second Column of training data\")\n",
    "plt.xlabel(\"Value\")\n",
    "plt.ylabel(\"Frequency\")\n",
    "plt.show()"
   ]
  },
  {
   "cell_type": "code",
   "execution_count": 13,
   "id": "f6bb32dc-a8d2-4837-a534-2acf186e791b",
   "metadata": {},
   "outputs": [
    {
     "data": {
      "image/png": "[encoded data removed]",
      "text/plain": [
       "<Figure size 600x400 with 1 Axes>"
      ]
     },
     "metadata": {},
     "output_type": "display_data"
    }
   ],
   "source": [
    "import matplotlib.pyplot as plt\n",
    "# plot histogram for the a column of\n",
    "plt.figure(figsize=(6, 4))\n",
    "plt.hist(train_data[:, -1], bins=20, edgecolor='black')\n",
    "plt.title(\"Distribution of Last Column of training data\")\n",
    "plt.xlabel(\"Value\")\n",
    "plt.ylabel(\"Frequency\")\n",
    "plt.show()"
   ]
  },
  {
   "cell_type": "markdown",
   "id": "20eece33-34e3-4a49-be55-533d4942307d",
   "metadata": {},
   "source": [
    "### Generate Samples"
   ]
  },
  {
   "cell_type": "code",
   "execution_count": 14,
   "id": "2d0176c3-0552-4ad7-8790-e313efe1fe36",
   "metadata": {},
   "outputs": [
    {
     "name": "stdout",
     "output_type": "stream",
     "text": [
      "Fixed part of c:\n",
      "[ 66.  57.   6.  74.  54.  65.  68.  86.  39.  23.   7.  24.  34.  48.\n",
      "  63.  29.  81.  14.   8.  32.  13.  52.  40.  13.   3.  49.  97.  89.\n",
      "  75.  82.   1.  61.  49.  67.  20.  72.  40.  55.   5.  13.  12.  38.\n",
      "  97.  96.  70.  50.  78.  94.  17.  28.  44.  37.  56. 100.   1.  20.\n",
      "  60.  27.   3.  14.  78.  70.  87.  16.  39.   2.  15.  97.  97.  49.\n",
      "  13.  64.  10.  49.   4.  31.   6.  42.  14.  42.  18.  46.  51.  50.\n",
      "  51.  46.   5.  27.  49.  71.  89.  66.  49.  55.   4.  33.  50.  17.\n",
      "  79.  24.  68.  82.  94.  38.  21.  83.  22.  41.  14.  78.  14.  67.\n",
      "  78.  26.  15.  36.  26.  52.  51.  97.  34.  54.   2.  95.   7.  49.\n",
      "   7.  60.  98.  36.  33.  37.  83.  92.  20.  27.  40.  14.  27.  56.\n",
      "  67.  45.  36.  71.  95.  79.  42.  59.  68.  24.  95.  19.  18.  45.\n",
      "  37.  32.  50.  93.  17.  36.  90.  65.  88.  29.  73.  58.  90.  95.\n",
      "  17.  76.   6.  72.  12.  56.   1.   5.  20.  24.  18.  35.  58.  26.\n",
      "   2.  22.  36.  20. 100.   1.  39.  99.  92.  83.  97.  96.  85.  33.\n",
      "  87.  26.  43.  41.  50.  91.  29.  49.  20.  38.  59.  10.   8.  56.\n",
      "  87.  51.  37.  31.  90.  97.   8.   4.  50.   6.  73.   7.  55.  10.\n",
      "  50.  49.  62.  28.  71.  77.  88.  94.  63.  34.  13.  95.  53.  93.\n",
      "  35.   7.]\n",
      "Sampled c_sample array:\n",
      "[[98. 48. 91. ... 83.  5.  5.]\n",
      " [83. 59.  9. ... 76. 63. -1.]\n",
      " [-3. 88. 52. ... 43. 80. 56.]\n",
      " ...\n",
      " [68. 28. 73. ... -2. 96. -1.]\n",
      " [ 5. -1. 15. ... 93. 54. 11.]\n",
      " [61. 41. 85. ... 94. 52. 78.]]\n"
     ]
    }
   ],
   "source": [
    "# sample size\n",
    "sample_size = 8000\n",
    "# init sample\n",
    "train_sample = np.zeros((sample_size, 120))\n",
    "# get the column-wise max and min values from train_data\n",
    "train_data_col_max = np.ceil(np.max(train_data[:,240:], axis=0)) + 5\n",
    "train_data_col_min = np.floor(np.min(train_data[:,240:], axis=0)) - 5\n",
    "# generate uniform random values for the first 250 rows between the min and max of each column\n",
    "train_sample = np.random.randint(train_data_col_min, train_data_col_max, (sample_size, 120)).astype(float)\n",
    "# display samples\n",
    "print(\"Fixed part of c:\")\n",
    "c_fixed = train_data[0,:240]\n",
    "print(c_fixed)\n",
    "print(\"Sampled c_sample array:\")\n",
    "print(train_sample)"
   ]
  },
  {
   "cell_type": "markdown",
   "id": "23b33692-1fe3-4117-85cb-58c4f40340af",
   "metadata": {},
   "source": [
    "### Baseline "
   ]
  },
  {
   "cell_type": "code",
   "execution_count": 15,
   "id": "97e6be2f-2df1-48ed-bae2-e06b1db4962a",
   "metadata": {},
   "outputs": [],
   "source": [
    "def setObj(model, c):\n",
    "    # reset\n",
    "    model.reset() \n",
    "    # update the obj\n",
    "    for var, coeff in zip(model.getVars(), c):\n",
    "        var.Obj = coeff\n",
    "    # model update\n",
    "    model.update()"
   ]
  },
  {
   "cell_type": "code",
   "execution_count": 16,
   "id": "24d05e57-1d16-4eef-b991-2a1879e51f46",
   "metadata": {},
   "outputs": [],
   "source": [
    "def evaluateModel(model, x_val):\n",
    "    # check if the number of variables matches the input values\n",
    "    vars_in_model = model.getVars()\n",
    "    if len(vars_in_model) != len(x_val):\n",
    "        raise ValueError(\"The length of x_val does not match the number of model variables!\")\n",
    "    # calculate the objective function value\n",
    "    objval = sum(var.Obj * val for var, val in zip(vars_in_model, x_val))\n",
    "    # calculate constraint violations\n",
    "    viols = []\n",
    "    for constr in model.getConstrs():\n",
    "        # Compute the left-hand side (lhs) value of the constraint\n",
    "        lhs = sum(val * model.getCoeff(constr, var) for var, val in zip(vars_in_model, x_val))\n",
    "        rhs = constr.rhs\n",
    "        # determine the violation amount based on the constraint sense\n",
    "        violation = max(0, lhs - rhs - 1e-6) if constr.sense == GRB.LESS_EQUAL else \\\n",
    "                    max(0, rhs - lhs - 1e-6) if constr.sense == GRB.GREATER_EQUAL else \\\n",
    "                    abs(lhs - rhs)\n",
    "        # record the constraint name and its violation amount\n",
    "        viols.append(violation)\n",
    "    return objval, np.array(viols)"
   ]
  },
  {
   "cell_type": "markdown",
   "id": "dacab8c6-603a-4d87-9b7b-7192a12548ac",
   "metadata": {},
   "source": [
    "#### Exact Solver"
   ]
  },
  {
   "cell_type": "code",
   "execution_count": 17,
   "id": "810abb9f-c3f8-4ede-bf56-b3708be5e2b7",
   "metadata": {},
   "outputs": [],
   "source": [
    "random.seed(42)\n",
    "np.random.seed(42)\n",
    "torch.manual_seed(42)\n",
    "torch.cuda.manual_seed(42)"
   ]
  },
  {
   "cell_type": "code",
   "execution_count": 18,
   "id": "db3f8cc3-7f4f-4a5f-8c86-3da5b23759a3",
   "metadata": {},
   "outputs": [
    {
     "name": "stderr",
     "output_type": "stream",
     "text": [
      "100%|██████████████████████████████████████████████████████████████████████████████████| 10/10 [04:49<00:00, 28.95s/it]\n"
     ]
    },
    {
     "name": "stdout",
     "output_type": "stream",
     "text": [
      "           Obj Val  Mean Violation  Max Violation  Num Violations  \\\n",
      "count    10.000000            10.0           10.0            10.0   \n",
      "mean   8756.800000             0.0            0.0             0.0   \n",
      "std     162.387602             0.0            0.0             0.0   \n",
      "min    8518.000000             0.0            0.0             0.0   \n",
      "25%    8677.750000             0.0            0.0             0.0   \n",
      "50%    8747.000000             0.0            0.0             0.0   \n",
      "75%    8856.250000             0.0            0.0             0.0   \n",
      "max    9073.000000             0.0            0.0             0.0   \n",
      "\n",
      "       Elapsed Time  \n",
      "count     10.000000  \n",
      "mean      28.913145  \n",
      "std       10.803956  \n",
      "min       13.996350  \n",
      "25%       20.177915  \n",
      "50%       26.814653  \n",
      "75%       38.238872  \n",
      "max       44.846463  \n",
      "Total elapsed time for optimization: 289.13 seconds\n"
     ]
    }
   ],
   "source": [
    "# load model\n",
    "model = gp.read(\"temp.mps\")\n",
    "# init df\n",
    "params, sols, objvals, mean_viols, max_viols, num_viols, elapseds = [], [], [], [], [], [], []\n",
    "for c in tqdm(test_data):\n",
    "    # set rhs\n",
    "    setObj(model, c)\n",
    "    # solve\n",
    "    tick = time.time()\n",
    "    model.optimize()\n",
    "    tock = time.time()\n",
    "    # get solutions\n",
    "    x_val = [var.x for var in model.getVars()]\n",
    "    obj, viol = evaluateModel(model, x_val)\n",
    "    # append to df\n",
    "    params.append(list(c[non_zero_column_indices]))\n",
    "    sols.append(x_val)\n",
    "    objvals.append(model.objVal)\n",
    "    mean_viols.append(np.mean(viol))\n",
    "    max_viols.append(np.max(viol))\n",
    "    num_viols.append(np.sum(viol > 1e-6))\n",
    "    elapseds.append(tock - tick)\n",
    "df = pd.DataFrame({\"Param\": params,\n",
    "                   \"Sol\": sols,\n",
    "                   \"Obj Val\": objvals,\n",
    "                   \"Mean Violation\": mean_viols,\n",
    "                   \"Max Violation\": max_viols,\n",
    "                   \"Num Violations\": num_viols,\n",
    "                   \"Elapsed Time\": elapseds})\n",
    "time.sleep(1)\n",
    "print(df.describe())\n",
    "print(\"Total elapsed time for optimization: {:.2f} seconds\".format(df[\"Elapsed Time\"].sum()))\n",
    "df.to_csv(\"result/lp_exact_obj-series1.csv\")"
   ]
  },
  {
   "cell_type": "markdown",
   "id": "0482fed4-0ad2-4778-b8b8-87ec9e504876",
   "metadata": {},
   "source": [
    "#### N1 Hueristic"
   ]
  },
  {
   "cell_type": "code",
   "execution_count": 19,
   "id": "4d0eec6b-d290-4fc7-8da8-23f73937c54d",
   "metadata": {},
   "outputs": [],
   "source": [
    "random.seed(42)\n",
    "np.random.seed(42)\n",
    "torch.manual_seed(42)\n",
    "torch.cuda.manual_seed(42)"
   ]
  },
  {
   "cell_type": "code",
   "execution_count": 20,
   "id": "713f93be-6dc6-45e7-84a9-4e9618be57d3",
   "metadata": {},
   "outputs": [
    {
     "name": "stderr",
     "output_type": "stream",
     "text": [
      "100%|██████████████████████████████████████████████████████████████████████████████████| 10/10 [00:00<00:00, 46.49it/s]\n"
     ]
    },
    {
     "name": "stdout",
     "output_type": "stream",
     "text": [
      "            Obj Val  Mean Violation  Max Violation  Num Violations  \\\n",
      "count     10.000000            10.0           10.0            10.0   \n",
      "mean   11901.100000             0.0            0.0             0.0   \n",
      "std      221.315988             0.0            0.0             0.0   \n",
      "min    11605.000000             0.0            0.0             0.0   \n",
      "25%    11704.000000             0.0            0.0             0.0   \n",
      "50%    11933.000000             0.0            0.0             0.0   \n",
      "75%    12059.750000             0.0            0.0             0.0   \n",
      "max    12247.000000             0.0            0.0             0.0   \n",
      "\n",
      "       Elapsed Time  \n",
      "count     10.000000  \n",
      "mean       0.000888  \n",
      "std        0.000496  \n",
      "min        0.000000  \n",
      "25%        0.000998  \n",
      "50%        0.001006  \n",
      "75%        0.001045  \n",
      "max        0.001509  \n",
      "Total elapsed time for optimization: 0.01 seconds\n"
     ]
    }
   ],
   "source": [
    "# load model\n",
    "model = gp.read(\"temp.mps\")\n",
    "# limit to root node\n",
    "model.setParam(\"SolutionLimit\", 1) \n",
    "# init df\n",
    "params, sols, objvals, mean_viols, max_viols, num_viols, elapseds = [], [], [], [], [], [], []\n",
    "for c in tqdm(test_data):\n",
    "    # set rhs\n",
    "    setObj(model, c)\n",
    "    # solve\n",
    "    tick = time.time()\n",
    "    model.optimize()\n",
    "    tock = time.time()\n",
    "    # get solutions\n",
    "    x_val = [var.x for var in model.getVars()]\n",
    "    obj, viol = evaluateModel(model, x_val)\n",
    "    # append to df\n",
    "    params.append(list(c[non_zero_column_indices]))\n",
    "    sols.append(x_val)\n",
    "    objvals.append(model.objVal)\n",
    "    mean_viols.append(np.mean(viol))\n",
    "    max_viols.append(np.max(viol))\n",
    "    num_viols.append(np.sum(viol > 1e-6))\n",
    "    elapseds.append(tock - tick)\n",
    "df = pd.DataFrame({\"Param\": params,\n",
    "                   \"Sol\": sols,\n",
    "                   \"Obj Val\": objvals,\n",
    "                   \"Mean Violation\": mean_viols,\n",
    "                   \"Max Violation\": max_viols,\n",
    "                   \"Num Violations\": num_viols,\n",
    "                   \"Elapsed Time\": elapseds})\n",
    "time.sleep(1)\n",
    "print(df.describe())\n",
    "print(\"Total elapsed time for optimization: {:.2f} seconds\".format(df[\"Elapsed Time\"].sum()))\n",
    "df.to_csv(\"result/lp_root_obj-series1.csv\")"
   ]
  },
  {
   "cell_type": "markdown",
   "id": "2ef84ca8-6b5b-4b73-beeb-888d05d37f05",
   "metadata": {},
   "source": [
    "### Learning-to-Optimize"
   ]
  },
  {
   "cell_type": "code",
   "execution_count": 21,
   "id": "8c474cff-64a9-44a9-ae06-b114b3cc89ce",
   "metadata": {},
   "outputs": [],
   "source": [
    "# hpyerparameters\n",
    "batch_size = 64\n",
    "hlayers_sol = 5\n",
    "hlayers_rnd = 4\n",
    "hsize = 256\n",
    "lr = 1e-3\n",
    "penalty_weight = 100"
   ]
  },
  {
   "cell_type": "code",
   "execution_count": 22,
   "id": "ac85f1a2-0a29-4d86-9cae-b872ad76dae1",
   "metadata": {},
   "outputs": [],
   "source": [
    "from torch.utils.data import DataLoader\n",
    "from neuromancer.dataset import DictDataset\n",
    "# get dataset\n",
    "data_train = DictDataset({\"c\":torch.from_numpy(train_sample).float()}, name=\"train\")\n",
    "data_val = DictDataset({\"c\":torch.from_numpy(train_data[:,240:]).float()}, name=\"train\")\n",
    "# set dataloader\n",
    "loader_train = DataLoader(data_train, batch_size, num_workers=0,\n",
    "                          collate_fn=data_train.collate_fn, shuffle=True)\n",
    "loader_val   = DataLoader(data_val, batch_size, num_workers=0,\n",
    "                          collate_fn=data_train.collate_fn, shuffle=True)"
   ]
  },
  {
   "cell_type": "code",
   "execution_count": 23,
   "id": "fe5780be-00ed-4376-85bc-875f3561ec51",
   "metadata": {},
   "outputs": [],
   "source": [
    "class penaltyLoss(nn.Module):\n",
    "    \"\"\"\n",
    "    Penalty loss function for linear optimization problems.\n",
    "    \"\"\"\n",
    "    def __init__(self, input_keys, c_fixed, A, b, lb, ub, penalty_weight=50, output_key=\"loss\"):\n",
    "        \"\"\"\n",
    "        Initialize penalty loss with problem parameters.\n",
    "        \"\"\"\n",
    "        super().__init__()\n",
    "        self.c_key, self.x_key = input_keys\n",
    "        self.output_key = output_key\n",
    "        self.penalty_weight = penalty_weight\n",
    "        self.device = None\n",
    "        # fixed coefficients\n",
    "        self.c_fixed = torch.from_numpy(c_fixed).float()\n",
    "        self.A = torch.from_numpy(A).float()\n",
    "        self.b = torch.from_numpy(b).float()\n",
    "        self.lb = torch.from_numpy(lb).float()\n",
    "        self.ub = torch.from_numpy(ub).float()\n",
    "\n",
    "    def forward(self, input_dict):\n",
    "        \"\"\"\n",
    "        Forward pass to compute the penalty loss.\n",
    "        \"\"\"\n",
    "        # objective function calculation\n",
    "        obj_value = self.cal_obj(input_dict)\n",
    "        # constraint violation calculation\n",
    "        viol_value = self.cal_constr_viol(input_dict)\n",
    "        # penalized loss\n",
    "        loss = obj_value + self.penalty_weight * viol_value\n",
    "        # mean loss\n",
    "        input_dict[self.output_key] = torch.mean(loss)\n",
    "        return input_dict\n",
    "\n",
    "    def cal_obj(self, input_dict):\n",
    "        \"\"\"\n",
    "        Calculate the linear objective function.\n",
    "        \"\"\"\n",
    "        c, x = input_dict[self.c_key], input_dict[self.x_key]\n",
    "        # move parameters to the correct device if not already set\n",
    "        if self.device is None:\n",
    "            self.device = x.device\n",
    "            self.c_fixed = self.c_fixed.to(self.device)\n",
    "            self.A = self.A.to(self.device)\n",
    "            self.b = self.b.to(self.device)\n",
    "            self.lb = self.lb.to(self.device)\n",
    "            self.ub = self.ub.to(self.device)\n",
    "        # concatenate along the feature dimension (dim=1)\n",
    "        c = torch.cat((self.c_fixed.repeat(c.size(0), 1), c), dim=1)\n",
    "        # calculate c^T x for the objective\n",
    "        obj_term = torch.einsum(\"bn,bn->b\", c, x)\n",
    "        return obj_term\n",
    "\n",
    "    def cal_constr_viol(self, input_dict):\n",
    "        \"\"\"\n",
    "        Calculate constraint and bounds violations.\n",
    "        \"\"\"\n",
    "        x = input_dict[self.x_key]\n",
    "        # calculate constraint violations (Ax <= b)\n",
    "        lhs = torch.einsum(\"mn,bn->bm\", self.A, x)  # Ax\n",
    "        constr_violation = torch.relu(lhs - self.b).sum(dim=1)  # Max(0, Ax - b)\n",
    "        # calculate bounds violations\n",
    "        lower_violation = torch.relu(self.lb - x).sum(dim=1)  # x >= lb\n",
    "        upper_violation = torch.relu(x - self.ub).sum(dim=1)  # x <= ub\n",
    "        return constr_violation + lower_violation + upper_violation"
   ]
  },
  {
   "cell_type": "markdown",
   "id": "d82c0228-fe20-4121-a016-94270d3c79c5",
   "metadata": {},
   "source": [
    "#### Rounding Classification"
   ]
  },
  {
   "cell_type": "code",
   "execution_count": 24,
   "id": "b7fef6da-65b1-47f0-89e3-58ada5bae053",
   "metadata": {},
   "outputs": [],
   "source": [
    "random.seed(42)\n",
    "np.random.seed(42)\n",
    "torch.manual_seed(42)\n",
    "torch.cuda.manual_seed(42)"
   ]
  },
  {
   "cell_type": "code",
   "execution_count": 25,
   "id": "afad3c94-a80b-47d9-a512-7a42aa4c3401",
   "metadata": {},
   "outputs": [],
   "source": [
    "import neuromancer as nm\n",
    "from src.func.layer import netFC\n",
    "from src.func import roundGumbelModel\n",
    "# build neural architecture for the solution map\n",
    "func = nm.modules.blocks.MLP(insize=120, outsize=model.NumVars, bias=True,\n",
    "                             linear_map=nm.slim.maps[\"linear\"],\n",
    "                             nonlin=nn.ReLU, hsizes=[hsize]*hlayers_sol)\n",
    "smap = nm.system.Node(func, [\"c\"], [\"x\"], name=\"smap\")\n",
    "# define rounding model\n",
    "layers_rnd = netFC(input_dim=120+model.NumVars,\n",
    "                   hidden_dims=[hsize]*hlayers_rnd,\n",
    "                   output_dim=model.NumVars)\n",
    "rnd = roundGumbelModel(layers=layers_rnd, param_keys=[\"c\"], var_keys=[\"x\"],\n",
    "                       output_keys=[\"x_rnd\"], bin_ind={\"x\":bin_ind},\n",
    "                       continuous_update=True, name=\"round\")\n",
    "# build neuromancer problem for rounding\n",
    "components = nn.ModuleList([smap, rnd]).to(\"cuda\")\n",
    "loss_fn = penaltyLoss([\"c\", \"x_rnd\"], c_fixed, A, b, lb, ub, penalty_weight)"
   ]
  },
  {
   "cell_type": "code",
   "execution_count": 26,
   "id": "61691c38-60fb-4b68-a9e3-d4541bf64938",
   "metadata": {},
   "outputs": [
    {
     "name": "stdout",
     "output_type": "stream",
     "text": [
      "Epoch 0, Iters 0, Validation Loss: 14922675.00\n",
      "Epoch 0, Iters 125, Training Loss: 10476915.41, Validation Loss: 16859.22\n",
      "Epoch 1, Iters 250, Training Loss: 61861.72, Validation Loss: 15145.60\n",
      "Epoch 2, Iters 375, Training Loss: 18997.83, Validation Loss: 12694.80\n",
      "Epoch 3, Iters 500, Training Loss: 13913.09, Validation Loss: 11566.73\n",
      "Epoch 4, Iters 625, Training Loss: 11652.16, Validation Loss: 10933.33\n",
      "Epoch 5, Iters 750, Training Loss: 11542.65, Validation Loss: 10388.33\n",
      "Epoch 6, Iters 875, Training Loss: 10791.96, Validation Loss: 10486.23\n",
      "Epoch 7, Iters 1000, Training Loss: 10865.89, Validation Loss: 10353.78\n",
      "Epoch 8, Iters 1125, Training Loss: 10440.87, Validation Loss: 10147.90\n",
      "Epoch 9, Iters 1250, Training Loss: 10280.30, Validation Loss: 10042.35\n",
      "Epoch 10, Iters 1375, Training Loss: 10365.33, Validation Loss: 3520872.75\n",
      "Epoch 11, Iters 1500, Training Loss: 10246.44, Validation Loss: 9950.08\n",
      "Epoch 12, Iters 1625, Training Loss: 10131.33, Validation Loss: 9937.55\n",
      "Epoch 13, Iters 1750, Training Loss: 10085.58, Validation Loss: 9942.80\n",
      "Epoch 14, Iters 1875, Training Loss: 9994.29, Validation Loss: 9866.12\n",
      "Epoch 15, Iters 2000, Training Loss: 10007.04, Validation Loss: 9831.20\n",
      "Epoch 16, Iters 2125, Training Loss: 9897.33, Validation Loss: 9815.42\n",
      "Epoch 17, Iters 2250, Training Loss: 9988.41, Validation Loss: 9797.88\n",
      "Epoch 18, Iters 2375, Training Loss: 9953.42, Validation Loss: 9798.00\n",
      "Epoch 19, Iters 2500, Training Loss: 9907.91, Validation Loss: 9796.85\n",
      "Epoch 20, Iters 2625, Training Loss: 9922.93, Validation Loss: 9805.15\n",
      "Epoch 21, Iters 2750, Training Loss: 9869.44, Validation Loss: 9801.55\n",
      "Epoch 22, Iters 2875, Training Loss: 9959.68, Validation Loss: 9799.20\n",
      "Epoch 23, Iters 3000, Training Loss: 9899.72, Validation Loss: 9795.83\n",
      "Epoch 24, Iters 3125, Training Loss: 9827.12, Validation Loss: 9966.50\n",
      "Epoch 25, Iters 3250, Training Loss: 9846.90, Validation Loss: 9996.83\n",
      "Epoch 26, Iters 3375, Training Loss: 9837.09, Validation Loss: 9833.23\n",
      "Epoch 27, Iters 3500, Training Loss: 9833.17, Validation Loss: 9791.98\n",
      "Epoch 28, Iters 3625, Training Loss: 9827.39, Validation Loss: 9791.03\n",
      "Epoch 29, Iters 3750, Training Loss: 9825.04, Validation Loss: 9795.67\n",
      "Epoch 30, Iters 3875, Training Loss: 9800.67, Validation Loss: 9790.08\n",
      "Epoch 31, Iters 4000, Training Loss: 9849.20, Validation Loss: 9789.98\n",
      "Epoch 32, Iters 4125, Training Loss: 9809.85, Validation Loss: 9791.30\n",
      "Epoch 33, Iters 4250, Training Loss: 9831.60, Validation Loss: 9792.78\n",
      "Epoch 34, Iters 4375, Training Loss: 9827.74, Validation Loss: 9820.98\n",
      "Epoch 35, Iters 4500, Training Loss: 9844.75, Validation Loss: 9789.12\n",
      "Epoch 36, Iters 4625, Training Loss: 9826.93, Validation Loss: 9788.62\n",
      "Epoch 37, Iters 4750, Training Loss: 9819.89, Validation Loss: 9787.95\n",
      "Epoch 38, Iters 4875, Training Loss: 9808.97, Validation Loss: 9788.23\n",
      "Epoch 39, Iters 5000, Training Loss: 9864.38, Validation Loss: 9790.00\n",
      "Epoch 40, Iters 5125, Training Loss: 9828.82, Validation Loss: 9791.73\n",
      "Epoch 41, Iters 5250, Training Loss: 9783.27, Validation Loss: 9788.90\n",
      "Epoch 42, Iters 5375, Training Loss: 9822.11, Validation Loss: 9789.88\n",
      "Epoch 43, Iters 5500, Training Loss: 9804.05, Validation Loss: 9790.00\n",
      "Epoch 44, Iters 5625, Training Loss: 9776.88, Validation Loss: 9790.90\n",
      "Epoch 45, Iters 5750, Training Loss: 9822.33, Validation Loss: 9790.12\n",
      "Epoch 46, Iters 5875, Training Loss: 9792.56, Validation Loss: 9788.45\n",
      "Epoch 47, Iters 6000, Training Loss: 9814.43, Validation Loss: 9788.73\n",
      "Epoch 48, Iters 6125, Training Loss: 9774.53, Validation Loss: 9789.08\n",
      "Epoch 49, Iters 6250, Training Loss: 9791.19, Validation Loss: 9791.25\n",
      "Epoch 50, Iters 6375, Training Loss: 9803.56, Validation Loss: 9791.23\n",
      "Epoch 51, Iters 6500, Training Loss: 9804.31, Validation Loss: 9788.62\n",
      "Epoch 52, Iters 6625, Training Loss: 9800.87, Validation Loss: 9787.45\n",
      "Epoch 53, Iters 6750, Training Loss: 9800.59, Validation Loss: 9787.45\n",
      "Epoch 54, Iters 6875, Training Loss: 9826.62, Validation Loss: 9789.30\n",
      "Epoch 55, Iters 7000, Training Loss: 9775.17, Validation Loss: 9787.73\n",
      "Epoch 56, Iters 7125, Training Loss: 9813.58, Validation Loss: 9787.75\n",
      "Epoch 57, Iters 7250, Training Loss: 9797.91, Validation Loss: 9787.45\n",
      "Epoch 58, Iters 7375, Training Loss: 9785.44, Validation Loss: 9788.40\n",
      "Epoch 59, Iters 7500, Training Loss: 9780.94, Validation Loss: 9789.30\n",
      "Epoch 60, Iters 7625, Training Loss: 9846.50, Validation Loss: 9788.62\n",
      "Epoch 61, Iters 7750, Training Loss: 9827.28, Validation Loss: 9788.62\n",
      "Epoch 62, Iters 7875, Training Loss: 9796.49, Validation Loss: 9787.67\n",
      "Epoch 63, Iters 8000, Training Loss: 9778.29, Validation Loss: 9788.17\n",
      "Epoch 64, Iters 8125, Training Loss: 9806.59, Validation Loss: 9788.17\n",
      "Epoch 65, Iters 8250, Training Loss: 9807.70, Validation Loss: 9788.90\n",
      "Epoch 66, Iters 8375, Training Loss: 9801.60, Validation Loss: 9787.95\n",
      "Epoch 67, Iters 8500, Training Loss: 9808.65, Validation Loss: 9788.90\n",
      "Epoch 68, Iters 8625, Training Loss: 9773.59, Validation Loss: 9788.00\n",
      "Epoch 69, Iters 8750, Training Loss: 9847.95, Validation Loss: 9787.95\n",
      "Epoch 70, Iters 8875, Training Loss: 9834.09, Validation Loss: 9788.60\n",
      "Epoch 71, Iters 9000, Training Loss: 9802.39, Validation Loss: 9788.88\n",
      "Epoch 72, Iters 9125, Training Loss: 9792.68, Validation Loss: 9790.38\n",
      "Early stopping at iters 9125\n",
      "Best model loaded.\n",
      "Training complete.\n",
      "The training time is 122.95 sec.\n"
     ]
    }
   ],
   "source": [
    "from src.problem.neuromancer.trainer import trainer\n",
    "# training\n",
    "epochs = 200                    # number of training epochs\n",
    "warmup = 20                     # number of epochs to wait before enacting early stopping policy\n",
    "patience = 20                   # number of epochs with no improvement in eval metric to allow before early stopping\n",
    "optimizer = torch.optim.AdamW(components.parameters(), lr=lr)\n",
    "# create a trainer for the problem\n",
    "my_trainer = trainer(components, loss_fn, optimizer, epochs=epochs, patience=patience, warmup=warmup, device=\"cuda\")\n",
    "# training for the rounding problem\n",
    "my_trainer.train(loader_train, loader_val)"
   ]
  },
  {
   "cell_type": "code",
   "execution_count": 27,
   "id": "e45e0270-e288-4511-84c5-b5be97c3c632",
   "metadata": {},
   "outputs": [
    {
     "name": "stderr",
     "output_type": "stream",
     "text": [
      "100%|██████████████████████████████████████████████████████████████████████████████████| 10/10 [00:00<00:00, 14.46it/s]\n"
     ]
    },
    {
     "name": "stdout",
     "output_type": "stream",
     "text": [
      "           Obj Val  Mean Violation  Max Violation  Num Violations  \\\n",
      "count    10.000000            10.0           10.0            10.0   \n",
      "mean   9745.900000             0.0            0.0             0.0   \n",
      "std     163.528761             0.0            0.0             0.0   \n",
      "min    9445.000000             0.0            0.0             0.0   \n",
      "25%    9645.000000             0.0            0.0             0.0   \n",
      "50%    9763.000000             0.0            0.0             0.0   \n",
      "75%    9815.500000             0.0            0.0             0.0   \n",
      "max    9979.000000             0.0            0.0             0.0   \n",
      "\n",
      "       Elapsed Time  \n",
      "count     10.000000  \n",
      "mean       0.004242  \n",
      "std        0.002297  \n",
      "min        0.002001  \n",
      "25%        0.003009  \n",
      "50%        0.003579  \n",
      "75%        0.004338  \n",
      "max        0.010159  \n",
      "Total elapsed time for optimization: 0.04 seconds\n",
      "Number of infeasible solution: 0\n"
     ]
    }
   ],
   "source": [
    "# init df\n",
    "params, sols, objvals, mean_viols, max_viols, num_viols, elapseds = [], [], [], [], [], [], []\n",
    "for c in tqdm(test_data):\n",
    "    # set coefs\n",
    "    setObj(model, c)\n",
    "    # data point as tensor\n",
    "    datapoints = {\"c\": torch.unsqueeze(torch.tensor(c[240:]).float(), 0).to(\"cuda\"),\n",
    "                  \"name\": \"test\"}\n",
    "    # infer\n",
    "    components.eval()\n",
    "    tick = time.time()\n",
    "    with torch.no_grad():\n",
    "        for comp in components:\n",
    "            datapoints.update(comp(datapoints))\n",
    "    tock = time.time()\n",
    "    # get solutions\n",
    "    x_val = datapoints[\"x_rnd\"][0].detach().cpu().numpy()\n",
    "    obj, viol = evaluateModel(model, x_val)\n",
    "    # append to df\n",
    "    params.append(list(c[non_zero_column_indices]))\n",
    "    sols.append(list(x_val))\n",
    "    objvals.append(obj)\n",
    "    mean_viols.append(np.mean(viol))\n",
    "    max_viols.append(np.max(viol))\n",
    "    num_viols.append(np.sum(viol > 1e-6))\n",
    "    elapseds.append(tock - tick)\n",
    "df = pd.DataFrame({\"Param\": params,\n",
    "                   \"Sol\": sols,\n",
    "                   \"Obj Val\": objvals,\n",
    "                   \"Mean Violation\": mean_viols,\n",
    "                   \"Max Violation\": max_viols,\n",
    "                   \"Num Violations\": num_viols,\n",
    "                   \"Elapsed Time\": elapseds})\n",
    "time.sleep(1)\n",
    "print(df.describe())\n",
    "print(\"Total elapsed time for optimization: {:.2f} seconds\".format(df[\"Elapsed Time\"].sum()))\n",
    "print(\"Number of infeasible solution: {}\".format(np.sum(df[\"Num Violations\"] > 0)))\n",
    "df.to_csv(\"result/lp_cls_obj-series1.csv\")"
   ]
  },
  {
   "cell_type": "markdown",
   "id": "171c518f-4f8e-424b-bfd2-f179719aa0b0",
   "metadata": {},
   "source": [
    "#### Learnable Threshold"
   ]
  },
  {
   "cell_type": "code",
   "execution_count": 28,
   "id": "fb5e2b4f-5001-4379-97f9-174a67b635f6",
   "metadata": {},
   "outputs": [],
   "source": [
    "random.seed(42)\n",
    "np.random.seed(42)\n",
    "torch.manual_seed(42)\n",
    "torch.cuda.manual_seed(42)"
   ]
  },
  {
   "cell_type": "code",
   "execution_count": 29,
   "id": "a29326d5-a8fb-4134-9c84-a57f771b3dac",
   "metadata": {},
   "outputs": [],
   "source": [
    "import neuromancer as nm\n",
    "from src.func.layer import netFC\n",
    "from src.func import roundThresholdModel\n",
    "# build neural architecture for the solution map\n",
    "func = nm.modules.blocks.MLP(insize=120, outsize=model.NumVars, bias=True,\n",
    "                             linear_map=nm.slim.maps[\"linear\"],\n",
    "                             nonlin=nn.ReLU, hsizes=[hsize]*hlayers_sol)\n",
    "smap = nm.system.Node(func, [\"c\"], [\"x\"], name=\"smap\")\n",
    "# define rounding model\n",
    "layers_rnd = netFC(input_dim=120+model.NumVars,\n",
    "                   hidden_dims=[hsize]*hlayers_rnd,\n",
    "                   output_dim=model.NumVars)\n",
    "rnd = roundThresholdModel(layers=layers_rnd, param_keys=[\"c\"], var_keys=[\"x\"],\n",
    "                          output_keys=[\"x_rnd\"], bin_ind={\"x\":bin_ind},\n",
    "                          continuous_update=True, name=\"round\")\n",
    "# build neuromancer problem for rounding\n",
    "components = nn.ModuleList([smap, rnd]).to(\"cuda\")\n",
    "loss_fn = penaltyLoss([\"c\", \"x_rnd\"], c_fixed, A, b, lb, ub, penalty_weight)"
   ]
  },
  {
   "cell_type": "code",
   "execution_count": 30,
   "id": "ccced445-aa9e-4407-96e5-54abce448e0c",
   "metadata": {},
   "outputs": [
    {
     "name": "stdout",
     "output_type": "stream",
     "text": [
      "Epoch 0, Iters 0, Validation Loss: 43507836.00\n",
      "Epoch 0, Iters 125, Training Loss: 602057.59, Validation Loss: 13894.48\n",
      "Epoch 1, Iters 250, Training Loss: 13909.44, Validation Loss: 13894.48\n",
      "Epoch 2, Iters 375, Training Loss: 13909.44, Validation Loss: 13894.48\n",
      "Epoch 3, Iters 500, Training Loss: 13909.44, Validation Loss: 13894.48\n",
      "Epoch 4, Iters 625, Training Loss: 13909.44, Validation Loss: 13894.48\n",
      "Epoch 5, Iters 750, Training Loss: 13909.44, Validation Loss: 13894.48\n",
      "Epoch 6, Iters 875, Training Loss: 13909.44, Validation Loss: 13894.48\n",
      "Epoch 7, Iters 1000, Training Loss: 13909.44, Validation Loss: 13894.48\n",
      "Epoch 8, Iters 1125, Training Loss: 13909.44, Validation Loss: 13894.48\n",
      "Epoch 9, Iters 1250, Training Loss: 13909.44, Validation Loss: 13894.48\n",
      "Epoch 10, Iters 1375, Training Loss: 13909.44, Validation Loss: 13894.48\n",
      "Epoch 11, Iters 1500, Training Loss: 13909.44, Validation Loss: 13894.48\n",
      "Epoch 12, Iters 1625, Training Loss: 13909.44, Validation Loss: 13894.48\n",
      "Epoch 13, Iters 1750, Training Loss: 13909.44, Validation Loss: 13894.48\n",
      "Epoch 14, Iters 1875, Training Loss: 13909.44, Validation Loss: 13894.48\n",
      "Epoch 15, Iters 2000, Training Loss: 13909.44, Validation Loss: 13894.48\n",
      "Epoch 16, Iters 2125, Training Loss: 13909.44, Validation Loss: 13894.48\n",
      "Epoch 17, Iters 2250, Training Loss: 13909.44, Validation Loss: 13894.48\n",
      "Epoch 18, Iters 2375, Training Loss: 13909.44, Validation Loss: 13894.48\n",
      "Epoch 19, Iters 2500, Training Loss: 13909.44, Validation Loss: 13894.48\n",
      "Training complete.\n",
      "The training time is 36.92 sec.\n"
     ]
    }
   ],
   "source": [
    "from src.problem.neuromancer.trainer import trainer\n",
    "# training\n",
    "epochs = 20                     # number of training epochs\n",
    "warmup = 20                     # number of epochs to wait before enacting early stopping policy\n",
    "patience = 20                   # number of epochs with no improvement in eval metric to allow before early stopping\n",
    "optimizer = torch.optim.AdamW(components.parameters(), lr=lr)\n",
    "# create a trainer for the problem\n",
    "my_trainer = trainer(components, loss_fn, optimizer, epochs=epochs, patience=patience, warmup=warmup, device=\"cuda\")\n",
    "# training for the rounding problem\n",
    "my_trainer.train(loader_train, loader_val)"
   ]
  },
  {
   "cell_type": "code",
   "execution_count": 31,
   "id": "c786ef9c-a2fc-48e7-8cb8-d8b7981adab6",
   "metadata": {},
   "outputs": [
    {
     "name": "stderr",
     "output_type": "stream",
     "text": [
      "100%|██████████████████████████████████████████████████████████████████████████████████| 10/10 [00:00<00:00, 16.58it/s]\n"
     ]
    },
    {
     "name": "stdout",
     "output_type": "stream",
     "text": [
      "       Obj Val  Mean Violation  Max Violation  Num Violations  Elapsed Time\n",
      "count     10.0            10.0           10.0            10.0     10.000000\n",
      "mean   14149.0             0.0            0.0             0.0      0.003597\n",
      "std        0.0             0.0            0.0             0.0      0.000876\n",
      "min    14149.0             0.0            0.0             0.0      0.002001\n",
      "25%    14149.0             0.0            0.0             0.0      0.003019\n",
      "50%    14149.0             0.0            0.0             0.0      0.003524\n",
      "75%    14149.0             0.0            0.0             0.0      0.004372\n",
      "max    14149.0             0.0            0.0             0.0      0.004841\n",
      "Total elapsed time for optimization: 0.04 seconds\n",
      "Number of infeasible solution: 0\n"
     ]
    }
   ],
   "source": [
    "# init df\n",
    "params, sols, objvals, mean_viols, max_viols, num_viols, elapseds = [], [], [], [], [], [], []\n",
    "for c in tqdm(test_data):\n",
    "    # data point as tensor\n",
    "    datapoints = {\"c\": torch.unsqueeze(torch.tensor(c[240:]).float(), 0).to(\"cuda\"),\n",
    "                  \"name\": \"test\"}\n",
    "    # infer\n",
    "    components.eval()\n",
    "    tick = time.time()\n",
    "    with torch.no_grad():\n",
    "        for comp in components:\n",
    "            datapoints.update(comp(datapoints))\n",
    "    tock = time.time()\n",
    "    # get solutions\n",
    "    x_val = datapoints[\"x_rnd\"][0].detach().cpu().numpy()\n",
    "    obj, viol = evaluateModel(model, x_val)\n",
    "    # append to df\n",
    "    params.append(list(c[non_zero_column_indices]))\n",
    "    sols.append(list(x_val))\n",
    "    objvals.append(obj)\n",
    "    mean_viols.append(np.mean(viol))\n",
    "    max_viols.append(np.max(viol))\n",
    "    num_viols.append(np.sum(viol > 1e-6))\n",
    "    elapseds.append(tock - tick)\n",
    "df = pd.DataFrame({\"Param\": params,\n",
    "                   \"Sol\": sols,\n",
    "                   \"Obj Val\": objvals,\n",
    "                   \"Mean Violation\": mean_viols,\n",
    "                   \"Max Violation\": max_viols,\n",
    "                   \"Num Violations\": num_viols,\n",
    "                   \"Elapsed Time\": elapseds})\n",
    "time.sleep(1)\n",
    "print(df.describe())\n",
    "print(\"Total elapsed time for optimization: {:.2f} seconds\".format(df[\"Elapsed Time\"].sum()))\n",
    "print(\"Number of infeasible solution: {}\".format(np.sum(df[\"Num Violations\"] > 0)))\n",
    "df.to_csv(\"result/lp_thd_obj-series1.csv\")"
   ]
  },
  {
   "cell_type": "code",
   "execution_count": null,
   "id": "457fbbf6-c4d1-45f3-b607-8bab81dc2747",
   "metadata": {},
   "outputs": [],
   "source": []
  }
 ],
 "metadata": {
  "kernelspec": {
   "display_name": "Python 3 (ipykernel)",
   "language": "python",
   "name": "python3"
  },
  "language_info": {
   "codemirror_mode": {
    "name": "ipython",
    "version": 3
   },
   "file_extension": ".py",
   "mimetype": "text/x-python",
   "name": "python",
   "nbconvert_exporter": "python",
   "pygments_lexer": "ipython3",
   "version": "3.10.13"
  }
 },
 "nbformat": 4,
 "nbformat_minor": 5
}
